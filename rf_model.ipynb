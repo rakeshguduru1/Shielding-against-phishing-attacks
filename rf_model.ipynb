{
 "cells": [
  {
   "cell_type": "code",
   "execution_count": 1,
   "id": "b79c7071",
   "metadata": {},
   "outputs": [],
   "source": [
    "import pickle\n",
    "import numpy\n",
    "import pandas\n",
    "import sklearn\n",
    "\n",
    "\"\"\"# save the model to disk\n",
    "filename = 'finalized_model.sav'\n",
    "pickle.dump(clf, open(filename, 'wb'))\n",
    "\"\"\"\n",
    "\n",
    "def predictor(splitted_data):\n",
    "    \n",
    "    print(\"/n script rf_model\")\n",
    "    # load the model from disk\n",
    "    filename = 'finalized_model.sav'\n",
    "    loaded_model = pickle.load(open(filename, 'rb'))\n",
    "    print(\"model loaded\")\n",
    "    print(splitted_data.shape)\n",
    "    print(list(splitted_data))\n",
    "    x = splitted_data.columns[3:9]\n",
    "    preds = loaded_model.predict(splitted_data[x])\n",
    "    print(\"pridction complete\")\n",
    "    print(preds)\n",
    "    if preds == 0:\n",
    "        str1 = \"Phishing : Vulnerability detected\"\n",
    "    else: str1 = \"Phishing : Vulnerability Not detected\"\n",
    "    \n",
    "    score = loaded_model.predict_proba(splitted_data[x])\n",
    "    str2 = \"Confidence score: \"+ str(score[0][1])\n",
    "\n",
    "    return str1"
   ]
  },
  {
   "cell_type": "code",
   "execution_count": null,
   "id": "83d0733a",
   "metadata": {},
   "outputs": [],
   "source": []
  }
 ],
 "metadata": {
  "kernelspec": {
   "display_name": "Python 3 (ipykernel)",
   "language": "python",
   "name": "python3"
  },
  "language_info": {
   "codemirror_mode": {
    "name": "ipython",
    "version": 3
   },
   "file_extension": ".py",
   "mimetype": "text/x-python",
   "name": "python",
   "nbconvert_exporter": "python",
   "pygments_lexer": "ipython3",
   "version": "3.10.9"
  }
 },
 "nbformat": 4,
 "nbformat_minor": 5
}
